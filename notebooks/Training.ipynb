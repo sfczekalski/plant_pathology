{
  "nbformat": 4,
  "nbformat_minor": 0,
  "metadata": {
    "colab": {
      "name": "Training.ipynb",
      "provenance": []
    },
    "kernelspec": {
      "name": "python3",
      "display_name": "Python 3"
    },
    "accelerator": "GPU"
  },
  "cells": [
    {
      "cell_type": "markdown",
      "metadata": {
        "id": "Xf9iS1AiCLwc",
        "colab_type": "text"
      },
      "source": [
        "# Model training\n",
        "\n",
        "This notebook provides high level overview of training a neural network classifier to predict leaf's condition.\n",
        "\n",
        "Training parameters and image transformations are specified. Training the model is called, the results are obtained and plotted.\n",
        "\n",
        "Begin with mounting a drive and making sure the files are in place."
      ]
    },
    {
      "cell_type": "code",
      "metadata": {
        "id": "nDVILY_nUva4",
        "colab_type": "code",
        "colab": {
          "base_uri": "https://localhost:8080/",
          "height": 34
        },
        "outputId": "c3213a32-151c-4feb-e379-61b00f0c6052"
      },
      "source": [
        "from google.colab import drive\n",
        "drive.mount('/content/gdrive')\n",
        "data_dir = '/content/gdrive/My Drive/Colab Notebooks/Plant Pathology/data/'"
      ],
      "execution_count": 1,
      "outputs": [
        {
          "output_type": "stream",
          "text": [
            "Drive already mounted at /content/gdrive; to attempt to forcibly remount, call drive.mount(\"/content/gdrive\", force_remount=True).\n"
          ],
          "name": "stdout"
        }
      ]
    },
    {
      "cell_type": "code",
      "metadata": {
        "id": "h9VpTwhwU0GD",
        "colab_type": "code",
        "colab": {
          "base_uri": "https://localhost:8080/",
          "height": 34
        },
        "outputId": "2385d4f8-c8fe-4528-c764-2b034268c397"
      },
      "source": [
        "cd '/content/gdrive/My Drive/Colab Notebooks/Plant Pathology'"
      ],
      "execution_count": 2,
      "outputs": [
        {
          "output_type": "stream",
          "text": [
            "/content/gdrive/My Drive/Colab Notebooks/Plant Pathology\n"
          ],
          "name": "stdout"
        }
      ]
    },
    {
      "cell_type": "code",
      "metadata": {
        "id": "Et2jOSmIU-ok",
        "colab_type": "code",
        "colab": {
          "base_uri": "https://localhost:8080/",
          "height": 85
        },
        "outputId": "26b72c5f-51f8-4aa0-df75-8d25c20c7c63"
      },
      "source": [
        "ls"
      ],
      "execution_count": 3,
      "outputs": [
        {
          "output_type": "stream",
          "text": [
            " \u001b[0m\u001b[01;34mdata\u001b[0m/        model.py                            tools.py\n",
            " dataset.py  'Plant pathology - training.ipynb'  'Training CV.ipynb'\n",
            " loss.py      \u001b[01;34m__pycache__\u001b[0m/                        train.py\n",
            " main.py      \u001b[01;34msubmissions\u001b[0m/\n"
          ],
          "name": "stdout"
        }
      ]
    },
    {
      "cell_type": "code",
      "metadata": {
        "id": "UA53tKwlU_wU",
        "colab_type": "code",
        "colab": {
          "base_uri": "https://localhost:8080/",
          "height": 71
        },
        "outputId": "a132f65b-efff-4535-bb45-5cba99e65987"
      },
      "source": [
        "from tools import *\n",
        "import pandas as pd\n",
        "import matplotlib.pyplot as plt\n",
        "import seaborn as sns\n",
        "from dataset import PlantDataset\n",
        "from torch.utils.data import DataLoader\n",
        "import cv2\n",
        "import numpy as np\n",
        "from train import *\n",
        "\n",
        "import warnings\n",
        "warnings.filterwarnings('ignore')"
      ],
      "execution_count": 4,
      "outputs": [
        {
          "output_type": "stream",
          "text": [
            "/usr/local/lib/python3.6/dist-packages/statsmodels/tools/_testing.py:19: FutureWarning: pandas.util.testing is deprecated. Use the functions in the public API at pandas.testing instead.\n",
            "  import pandas.util.testing as tm\n"
          ],
          "name": "stderr"
        }
      ]
    },
    {
      "cell_type": "markdown",
      "metadata": {
        "id": "CwrFTEbqC6Y6",
        "colab_type": "text"
      },
      "source": [
        "# Training parameters, image transformations"
      ]
    },
    {
      "cell_type": "code",
      "metadata": {
        "id": "fYx33XqgVB0R",
        "colab_type": "code",
        "colab": {}
      },
      "source": [
        "# Define training parameters\n",
        "# Size of input image\n",
        "SIZE = 512\n",
        "\n",
        "N_FOLDS = 5\n",
        "N_EPOCHS = 10\n",
        "BATCH_SIZE = 64\n",
        "\n",
        "# Transforms\n",
        "transforms_train = A.Compose([\n",
        "    A.RandomResizedCrop(height=SIZE, width=SIZE, p=1.0),\n",
        "    A.Flip(),\n",
        "    A.ShiftScaleRotate(rotate_limit=1.0, p=0.8),\n",
        "\n",
        "    # Pixels\n",
        "    A.OneOf([\n",
        "        A.IAAEmboss(p=1.0),\n",
        "        A.IAASharpen(p=1.0),\n",
        "        A.Blur(p=1.0),\n",
        "    ], p=0.5),\n",
        "\n",
        "    # Affine\n",
        "    A.OneOf([\n",
        "        A.ElasticTransform(p=1.0),\n",
        "        A.IAAPiecewiseAffine(p=1.0)\n",
        "    ], p=0.5),\n",
        "\n",
        "    A.Normalize(p=1.0),\n",
        "    ToTensorV2(p=1.0),\n",
        "])\n",
        "\n",
        "transforms_valid = A.Compose([\n",
        "    A.Resize(height=SIZE, width=SIZE, p=1.0),\n",
        "    A.Normalize(p=1.0),\n",
        "    ToTensorV2(p=1.0),\n",
        "])"
      ],
      "execution_count": 0,
      "outputs": []
    },
    {
      "cell_type": "markdown",
      "metadata": {
        "id": "iUTUAAk7C-bB",
        "colab_type": "text"
      },
      "source": [
        "# Training"
      ]
    },
    {
      "cell_type": "code",
      "metadata": {
        "id": "UfH7a1NKVZOk",
        "colab_type": "code",
        "colab": {
          "base_uri": "https://localhost:8080/",
          "height": 204
        },
        "outputId": "8056ea65-c666-44ac-82fb-e411c2bbc794"
      },
      "source": [
        "model, results = training_loop_single(N_EPOCHS=N_EPOCHS, BATCH_SIZE=BATCH_SIZE,\n",
        "                                      transforms_train=transforms_train, transforms_valid=transforms_valid,\n",
        "                                      data_dir=data_dir)"
      ],
      "execution_count": 6,
      "outputs": [
        {
          "output_type": "stream",
          "text": [
            "Epoch: 1 / 10\n",
            "Epoch: 2 / 10\n",
            "Epoch: 3 / 10\n",
            "Epoch: 4 / 10\n",
            "Epoch: 5 / 10\n",
            "Epoch: 6 / 10\n",
            "Epoch: 7 / 10\n",
            "Epoch: 8 / 10\n",
            "Epoch: 9 / 10\n",
            "Epoch: 10 / 10\n",
            "Validation score: 0.9782064574462743\n"
          ],
          "name": "stdout"
        }
      ]
    },
    {
      "cell_type": "markdown",
      "metadata": {
        "id": "cEYyNNHoDBl5",
        "colab_type": "text"
      },
      "source": [
        "# Inference"
      ]
    },
    {
      "cell_type": "code",
      "metadata": {
        "id": "BEScYyuUVpQ5",
        "colab_type": "code",
        "colab": {
          "base_uri": "https://localhost:8080/",
          "height": 204
        },
        "outputId": "fa2f8cc2-0113-4c28-fa59-d43f2c5f8b32"
      },
      "source": [
        "submission_df = pd.read_csv(data_dir + 'sample_submission.csv')\n",
        "submission_df.iloc[:, 1:] = 0\n",
        "\n",
        "submission_df.head()"
      ],
      "execution_count": 7,
      "outputs": [
        {
          "output_type": "execute_result",
          "data": {
            "text/html": [
              "<div>\n",
              "<style scoped>\n",
              "    .dataframe tbody tr th:only-of-type {\n",
              "        vertical-align: middle;\n",
              "    }\n",
              "\n",
              "    .dataframe tbody tr th {\n",
              "        vertical-align: top;\n",
              "    }\n",
              "\n",
              "    .dataframe thead th {\n",
              "        text-align: right;\n",
              "    }\n",
              "</style>\n",
              "<table border=\"1\" class=\"dataframe\">\n",
              "  <thead>\n",
              "    <tr style=\"text-align: right;\">\n",
              "      <th></th>\n",
              "      <th>image_id</th>\n",
              "      <th>healthy</th>\n",
              "      <th>multiple_diseases</th>\n",
              "      <th>rust</th>\n",
              "      <th>scab</th>\n",
              "    </tr>\n",
              "  </thead>\n",
              "  <tbody>\n",
              "    <tr>\n",
              "      <th>0</th>\n",
              "      <td>Test_0</td>\n",
              "      <td>0</td>\n",
              "      <td>0</td>\n",
              "      <td>0</td>\n",
              "      <td>0</td>\n",
              "    </tr>\n",
              "    <tr>\n",
              "      <th>1</th>\n",
              "      <td>Test_1</td>\n",
              "      <td>0</td>\n",
              "      <td>0</td>\n",
              "      <td>0</td>\n",
              "      <td>0</td>\n",
              "    </tr>\n",
              "    <tr>\n",
              "      <th>2</th>\n",
              "      <td>Test_2</td>\n",
              "      <td>0</td>\n",
              "      <td>0</td>\n",
              "      <td>0</td>\n",
              "      <td>0</td>\n",
              "    </tr>\n",
              "    <tr>\n",
              "      <th>3</th>\n",
              "      <td>Test_3</td>\n",
              "      <td>0</td>\n",
              "      <td>0</td>\n",
              "      <td>0</td>\n",
              "      <td>0</td>\n",
              "    </tr>\n",
              "    <tr>\n",
              "      <th>4</th>\n",
              "      <td>Test_4</td>\n",
              "      <td>0</td>\n",
              "      <td>0</td>\n",
              "      <td>0</td>\n",
              "      <td>0</td>\n",
              "    </tr>\n",
              "  </tbody>\n",
              "</table>\n",
              "</div>"
            ],
            "text/plain": [
              "  image_id  healthy  multiple_diseases  rust  scab\n",
              "0   Test_0        0                  0     0     0\n",
              "1   Test_1        0                  0     0     0\n",
              "2   Test_2        0                  0     0     0\n",
              "3   Test_3        0                  0     0     0\n",
              "4   Test_4        0                  0     0     0"
            ]
          },
          "metadata": {
            "tags": []
          },
          "execution_count": 7
        }
      ]
    },
    {
      "cell_type": "code",
      "metadata": {
        "id": "GZG5s1zC5qXb",
        "colab_type": "code",
        "colab": {}
      },
      "source": [
        "dataset_test = PlantDataset(df=submission_df, data_dir=data_dir, transforms=transforms_valid)\n",
        "dataloader_test = DataLoader(dataset_test, batch_size=BATCH_SIZE, num_workers=4, shuffle=False)"
      ],
      "execution_count": 0,
      "outputs": []
    },
    {
      "cell_type": "code",
      "metadata": {
        "id": "cxXrIjnk5syE",
        "colab_type": "code",
        "colab": {}
      },
      "source": [
        "test_preds = None\n",
        "device = torch.device('cuda:0')\n",
        "\n",
        "for step, batch in enumerate(dataloader_test):\n",
        "\n",
        "        images = batch[0]\n",
        "        images = images.to(device, dtype=torch.float)\n",
        "\n",
        "        with torch.no_grad():\n",
        "            outputs = model(images)\n",
        "\n",
        "            if test_preds is None:\n",
        "                test_preds = outputs.data.cpu()\n",
        "            else:\n",
        "                test_preds = torch.cat((test_preds, outputs.data.cpu()), dim=0)\n",
        "\n",
        "\n",
        "submission_df[['healthy', 'multiple_diseases', 'rust', 'scab']] = torch.softmax(test_preds, dim=1)\n",
        "submission_df.to_csv(data_dir + 'submission_single.csv', index=False)"
      ],
      "execution_count": 0,
      "outputs": []
    },
    {
      "cell_type": "code",
      "metadata": {
        "id": "QyehNEjD6K2F",
        "colab_type": "code",
        "colab": {
          "base_uri": "https://localhost:8080/",
          "height": 359
        },
        "outputId": "cfd6496e-3196-40d1-fce7-d84b8631ebc5"
      },
      "source": [
        "submission_df.head(10)"
      ],
      "execution_count": 12,
      "outputs": [
        {
          "output_type": "execute_result",
          "data": {
            "text/html": [
              "<div>\n",
              "<style scoped>\n",
              "    .dataframe tbody tr th:only-of-type {\n",
              "        vertical-align: middle;\n",
              "    }\n",
              "\n",
              "    .dataframe tbody tr th {\n",
              "        vertical-align: top;\n",
              "    }\n",
              "\n",
              "    .dataframe thead th {\n",
              "        text-align: right;\n",
              "    }\n",
              "</style>\n",
              "<table border=\"1\" class=\"dataframe\">\n",
              "  <thead>\n",
              "    <tr style=\"text-align: right;\">\n",
              "      <th></th>\n",
              "      <th>image_id</th>\n",
              "      <th>healthy</th>\n",
              "      <th>multiple_diseases</th>\n",
              "      <th>rust</th>\n",
              "      <th>scab</th>\n",
              "    </tr>\n",
              "  </thead>\n",
              "  <tbody>\n",
              "    <tr>\n",
              "      <th>0</th>\n",
              "      <td>Test_0</td>\n",
              "      <td>0.003123</td>\n",
              "      <td>0.056104</td>\n",
              "      <td>0.940463</td>\n",
              "      <td>0.000310</td>\n",
              "    </tr>\n",
              "    <tr>\n",
              "      <th>1</th>\n",
              "      <td>Test_1</td>\n",
              "      <td>0.022906</td>\n",
              "      <td>0.109185</td>\n",
              "      <td>0.860123</td>\n",
              "      <td>0.007786</td>\n",
              "    </tr>\n",
              "    <tr>\n",
              "      <th>2</th>\n",
              "      <td>Test_2</td>\n",
              "      <td>0.000716</td>\n",
              "      <td>0.000672</td>\n",
              "      <td>0.000030</td>\n",
              "      <td>0.998582</td>\n",
              "    </tr>\n",
              "    <tr>\n",
              "      <th>3</th>\n",
              "      <td>Test_3</td>\n",
              "      <td>0.992083</td>\n",
              "      <td>0.000047</td>\n",
              "      <td>0.006955</td>\n",
              "      <td>0.000914</td>\n",
              "    </tr>\n",
              "    <tr>\n",
              "      <th>4</th>\n",
              "      <td>Test_4</td>\n",
              "      <td>0.000003</td>\n",
              "      <td>0.006516</td>\n",
              "      <td>0.993455</td>\n",
              "      <td>0.000025</td>\n",
              "    </tr>\n",
              "    <tr>\n",
              "      <th>5</th>\n",
              "      <td>Test_5</td>\n",
              "      <td>0.995128</td>\n",
              "      <td>0.000758</td>\n",
              "      <td>0.001368</td>\n",
              "      <td>0.002746</td>\n",
              "    </tr>\n",
              "    <tr>\n",
              "      <th>6</th>\n",
              "      <td>Test_6</td>\n",
              "      <td>0.995054</td>\n",
              "      <td>0.000281</td>\n",
              "      <td>0.003571</td>\n",
              "      <td>0.001095</td>\n",
              "    </tr>\n",
              "    <tr>\n",
              "      <th>7</th>\n",
              "      <td>Test_7</td>\n",
              "      <td>0.000812</td>\n",
              "      <td>0.006115</td>\n",
              "      <td>0.000414</td>\n",
              "      <td>0.992658</td>\n",
              "    </tr>\n",
              "    <tr>\n",
              "      <th>8</th>\n",
              "      <td>Test_8</td>\n",
              "      <td>0.061375</td>\n",
              "      <td>0.058782</td>\n",
              "      <td>0.024272</td>\n",
              "      <td>0.855571</td>\n",
              "    </tr>\n",
              "    <tr>\n",
              "      <th>9</th>\n",
              "      <td>Test_9</td>\n",
              "      <td>0.000916</td>\n",
              "      <td>0.027616</td>\n",
              "      <td>0.969636</td>\n",
              "      <td>0.001833</td>\n",
              "    </tr>\n",
              "  </tbody>\n",
              "</table>\n",
              "</div>"
            ],
            "text/plain": [
              "  image_id   healthy  multiple_diseases      rust      scab\n",
              "0   Test_0  0.003123           0.056104  0.940463  0.000310\n",
              "1   Test_1  0.022906           0.109185  0.860123  0.007786\n",
              "2   Test_2  0.000716           0.000672  0.000030  0.998582\n",
              "3   Test_3  0.992083           0.000047  0.006955  0.000914\n",
              "4   Test_4  0.000003           0.006516  0.993455  0.000025\n",
              "5   Test_5  0.995128           0.000758  0.001368  0.002746\n",
              "6   Test_6  0.995054           0.000281  0.003571  0.001095\n",
              "7   Test_7  0.000812           0.006115  0.000414  0.992658\n",
              "8   Test_8  0.061375           0.058782  0.024272  0.855571\n",
              "9   Test_9  0.000916           0.027616  0.969636  0.001833"
            ]
          },
          "metadata": {
            "tags": []
          },
          "execution_count": 12
        }
      ]
    },
    {
      "cell_type": "markdown",
      "metadata": {
        "id": "C_R_H49oDHBQ",
        "colab_type": "text"
      },
      "source": [
        "# Plot validation results"
      ]
    },
    {
      "cell_type": "code",
      "metadata": {
        "id": "lv2KbrdA8qIY",
        "colab_type": "code",
        "colab": {
          "base_uri": "https://localhost:8080/",
          "height": 204
        },
        "outputId": "b6a5a774-4ce1-4e2e-a1dd-5fdf1f0d1ec9"
      },
      "source": [
        "df_results = pd.DataFrame(results)\n",
        "df_results.head()"
      ],
      "execution_count": 15,
      "outputs": [
        {
          "output_type": "execute_result",
          "data": {
            "text/html": [
              "<div>\n",
              "<style scoped>\n",
              "    .dataframe tbody tr th:only-of-type {\n",
              "        vertical-align: middle;\n",
              "    }\n",
              "\n",
              "    .dataframe tbody tr th {\n",
              "        vertical-align: top;\n",
              "    }\n",
              "\n",
              "    .dataframe thead th {\n",
              "        text-align: right;\n",
              "    }\n",
              "</style>\n",
              "<table border=\"1\" class=\"dataframe\">\n",
              "  <thead>\n",
              "    <tr style=\"text-align: right;\">\n",
              "      <th></th>\n",
              "      <th>epoch</th>\n",
              "      <th>train_loss</th>\n",
              "      <th>valid_loss</th>\n",
              "      <th>valid_score</th>\n",
              "    </tr>\n",
              "  </thead>\n",
              "  <tbody>\n",
              "    <tr>\n",
              "      <th>0</th>\n",
              "      <td>0</td>\n",
              "      <td>0.939883</td>\n",
              "      <td>0.552768</td>\n",
              "      <td>0.907751</td>\n",
              "    </tr>\n",
              "    <tr>\n",
              "      <th>1</th>\n",
              "      <td>1</td>\n",
              "      <td>0.488010</td>\n",
              "      <td>0.271478</td>\n",
              "      <td>0.965086</td>\n",
              "    </tr>\n",
              "    <tr>\n",
              "      <th>2</th>\n",
              "      <td>2</td>\n",
              "      <td>0.368110</td>\n",
              "      <td>0.256831</td>\n",
              "      <td>0.959233</td>\n",
              "    </tr>\n",
              "    <tr>\n",
              "      <th>3</th>\n",
              "      <td>3</td>\n",
              "      <td>0.356741</td>\n",
              "      <td>0.234213</td>\n",
              "      <td>0.971745</td>\n",
              "    </tr>\n",
              "    <tr>\n",
              "      <th>4</th>\n",
              "      <td>4</td>\n",
              "      <td>0.286350</td>\n",
              "      <td>0.211708</td>\n",
              "      <td>0.972186</td>\n",
              "    </tr>\n",
              "  </tbody>\n",
              "</table>\n",
              "</div>"
            ],
            "text/plain": [
              "   epoch  train_loss  valid_loss  valid_score\n",
              "0      0    0.939883    0.552768     0.907751\n",
              "1      1    0.488010    0.271478     0.965086\n",
              "2      2    0.368110    0.256831     0.959233\n",
              "3      3    0.356741    0.234213     0.971745\n",
              "4      4    0.286350    0.211708     0.972186"
            ]
          },
          "metadata": {
            "tags": []
          },
          "execution_count": 15
        }
      ]
    },
    {
      "cell_type": "code",
      "metadata": {
        "id": "hXG9m4b3ARrj",
        "colab_type": "code",
        "colab": {
          "base_uri": "https://localhost:8080/",
          "height": 404
        },
        "outputId": "c1300e32-ecdc-4121-9b88-062a998dcc58"
      },
      "source": [
        "fig = plt.figure(figsize=(12, 6))\n",
        "\n",
        "import seaborn as sns\n",
        "sns.set_style('whitegrid')\n",
        "\n",
        "plt.plot(range(1, df_results.shape[0]+1), df_results['train_loss'], label='training')\n",
        "plt.plot(range(1, df_results.shape[0]+1), df_results['valid_loss'], label='validation')\n",
        "plt.xlabel('Epoch')\n",
        "plt.ylabel('Loss')\n",
        "plt.legend()\n",
        "plt.title('Learning curve')\n",
        "plt.show();"
      ],
      "execution_count": 17,
      "outputs": [
        {
          "output_type": "display_data",
          "data": {
            "image/png": "[encoded data removed]",
            "text/plain": [
              "<Figure size 864x432 with 1 Axes>"
            ]
          },
          "metadata": {
            "tags": []
          }
        }
      ]
    },
    {
      "cell_type": "code",
      "metadata": {
        "id": "wG5vgYllBKRX",
        "colab_type": "code",
        "colab": {}
      },
      "source": [
        ""
      ],
      "execution_count": 0,
      "outputs": []
    }
  ]
}